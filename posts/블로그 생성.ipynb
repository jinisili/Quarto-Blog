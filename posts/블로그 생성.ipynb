{
 "cells": [
  {
   "cell_type": "markdown",
   "metadata": {},
   "source": [
    "# 블로그 생성"
   ]
  },
  {
   "cell_type": "markdown",
   "metadata": {},
   "source": [
    "- git 다운로드 링크 : https://git-scm.com/downloads/\n",
    "- quarto 다운로드 링크 : https://quarto.org/docs/download/"
   ]
  },
  {
   "cell_type": "markdown",
   "metadata": {},
   "source": [
    "# 윈도우에서 블로그 생성"
   ]
  },
  {
   "cell_type": "markdown",
   "metadata": {},
   "source": [
    "- window에 git, quarto 설치\n",
    "- github에서 repository 생성\n",
    "- cmd 또는 anaconda prompt 실행\n",
    "\n",
    "```bash\n",
    "git clone {repository_https_code}\n",
    "cd {repository_name}\n",
    "quarto create-project --type website:blog\n",
    "git add .\n",
    "git commit -m .\n",
    "git push\n",
    "quarto publish gh-pages\n",
    "```\n",
    "\n",
    "**처음이라면 아래 설정 필요 (clone 후 실행)**\n",
    "\n",
    "```bash\n",
    "git config --global user.name \"{github_name}\"\n",
    "git config --global user.email \"{github_email}\n",
    "```"
   ]
  },
  {
   "cell_type": "markdown",
   "metadata": {},
   "source": [
    "# 코드스페이스에서 블로그 생성"
   ]
  },
  {
   "cell_type": "markdown",
   "metadata": {},
   "source": [
    "- github에서 repository 생성\n",
    "- codespaces 생성 및 실행\n",
    "\n",
    "```bash\n",
    "# workspaces에서\n",
    "wget {quarto_download_link}\n",
    "sudo dpkg -i {quarto_file_name}\n",
    "# main에서\n",
    "quarto create-project --type website:blog\n",
    "git add .\n",
    "git commit -m .\n",
    "git push\n",
    "quarto publish gh-pages\n",
    "```"
   ]
  },
  {
   "cell_type": "markdown",
   "metadata": {},
   "source": [
    "`-` 선택사항\n",
    "- index.qmd에 자기소개 추가\n",
    "- _quarto.yml에 블로그 제목 설정"
   ]
  },
  {
   "cell_type": "markdown",
   "metadata": {},
   "source": [
    "`-` 블로그 포스트 업로드\n",
    "- ctrl + shift + p -> jupyter notebook 생성\n",
    "- 포스트 내용 입력\n",
    "\n",
    "```bash\n",
    "git add .\n",
    "git commit -m .\n",
    "git push\n",
    "git publish\n",
    "```\n",
    "\n",
    "- 포스트 최상단에 raw 셀로 입력\n",
    "```\n",
    "---\n",
    "title: \"{post title}\"\n",
    "author: \"{name}\"\n",
    "date: \"{month/date/year}\"\n",
    "---\n",
    "```"
   ]
  },
  {
   "cell_type": "markdown",
   "metadata": {},
   "source": [
    "# 코드를 숨기는 블로그"
   ]
  },
  {
   "cell_type": "markdown",
   "metadata": {},
   "source": [
    "`-` 아래는 코드를 깃허브에 업로드하는 코드\n",
    "\n",
    "```bash\n",
    "git add .\n",
    "git commit -m .\n",
    "git push\n",
    "```"
   ]
  },
  {
   "cell_type": "markdown",
   "metadata": {},
   "source": [
    "`-` quarto publish는 아래 동작의 결합\n",
    "\n",
    "```bash\n",
    "quarto render       # html 파일이 어딘가 생성\n",
    "git switch gh-pages # 만들어진 html 파일 복사\n",
    "git add .\n",
    "git push\n",
    "git switch main\n",
    "```"
   ]
  },
  {
   "cell_type": "markdown",
   "metadata": {},
   "source": [
    "`-` 코드를 숨기는 블로그 생성\n",
    "- quarto publish만 실행"
   ]
  },
  {
   "cell_type": "markdown",
   "metadata": {},
   "source": [
    "# 블로그 생성 원리"
   ]
  },
  {
   "cell_type": "markdown",
   "metadata": {},
   "source": [
    "- 위의 내용으로 블로그를 생성하면 repository branch가 두 개 존재 : main, gh-pages\n",
    "- gh-pages의 html 파일들이 블로그에 보여지는 것"
   ]
  },
  {
   "cell_type": "markdown",
   "metadata": {},
   "source": [
    "`-` branch switch를 하지 않고 publish를 하는 방법\n",
    "\n",
    "```bash\n",
    "git branch -D gh-pages\n",
    "git push origin --delete gh-pages # 로컬에서 브랜치 삭제 후 원격으로 업데이트\n",
    "git add .\n",
    "git commit -m .\n",
    "git push\n",
    "```\n",
    "\n",
    "```{.bash filename=\"_quarto.yml\"}\n",
    "project:\n",
    "  type: website\n",
    "  output-dir: docs # <- 이 부분 추가\n",
    "```\n",
    "\n",
    "- https://github.com/{user-name}/{repo-name}/settings/pages 에서 branch를 main-docs로 변경"
   ]
  },
  {
   "cell_type": "markdown",
   "metadata": {},
   "source": [
    "`-` 위의 세팅 후에는 아래 코드로 포스트 업로드 가능\n",
    "\n",
    "```bash\n",
    "quarto render   # html 파일들이 docs에 저장\n",
    "git add .\n",
    "git commit -m .\n",
    "git push\n",
    "```"
   ]
  },
  {
   "cell_type": "markdown",
   "metadata": {},
   "source": [
    "# 처음부터 gh-pages를 만들지 않고 블로그 생성"
   ]
  },
  {
   "cell_type": "markdown",
   "metadata": {},
   "source": [
    "- github에서 repository 생성\n",
    "- setting main-docs로 변경\n",
    "- codespaces 생성 및 실행\n",
    "\n",
    "```bash\n",
    "# workspaces에서\n",
    "wget {quarto_download_link}\n",
    "sudo dpkg -i {quarto_file_name}\n",
    "# main에서\n",
    "quarto create-project --type website:blog\n",
    "```\n",
    "\n",
    "```{.bash filename=\"_quarto.yml\"}\n",
    "project:\n",
    "  type: website\n",
    "  output-dir: docs # <- 이 부분 추가\n",
    "```\n",
    "\n",
    "```bash\n",
    "quarto render\n",
    "git add .\n",
    "git commit -m .\n",
    "git push\n",
    "```"
   ]
  }
 ],
 "metadata": {
  "language_info": {
   "name": "python"
  }
 },
 "nbformat": 4,
 "nbformat_minor": 2
}
